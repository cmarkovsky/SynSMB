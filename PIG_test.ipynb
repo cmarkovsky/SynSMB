{
 "cells": [
  {
   "cell_type": "code",
   "execution_count": 1,
   "id": "55a2a348",
   "metadata": {},
   "outputs": [],
   "source": [
    "from matplotlib import pyplot as plt\n",
    "from syn_smb import SMBDataSet\n",
    "from pandas.plotting import autocorrelation_plot\n",
    "import warnings\n",
    "warnings.simplefilter(action='ignore', category=FutureWarning)\n"
   ]
  },
  {
   "cell_type": "code",
   "execution_count": 3,
   "id": "3e54bd49",
   "metadata": {},
   "outputs": [
    {
     "name": "stderr",
     "output_type": "stream",
     "text": [
      "Ignoring index file 'examples/data/era5_PIG.grib.5b7b6.idx' incompatible with GRIB file\n",
      "Ignoring index file 'examples/data/era5_PIG.grib.5b7b6.idx' incompatible with GRIB file\n",
      "Ignoring index file 'examples/data/era5_PIG.grib.5b7b6.idx' incompatible with GRIB file\n"
     ]
    }
   ],
   "source": [
    "\n",
    "reg = 'PIG'\n",
    "\n",
    "smb_ds = SMBDataSet(f\"examples/data/era5_{reg}.grib\")\n",
    "\n"
   ]
  },
  {
   "cell_type": "code",
   "execution_count": null,
   "id": "e00dcf59",
   "metadata": {},
   "outputs": [],
   "source": [
    "# smb_ds.forecast_ar(filt_center=1, n_years=100, plot=True)\n",
    "smb_ds.filter_smb(n_years=1)\n",
    "smb_ds.filter_smb(n_years=10)\n",
    "filtered_smb1 = smb_ds.get_filtered_smb(n_years=1)\n",
    "filtered_smb10 = smb_ds.get_filtered_smb(n_years=10)\n",
    "smb_ds.plot_filtered_smbs()"
   ]
  },
  {
   "cell_type": "code",
   "execution_count": null,
   "id": "9f3c2286",
   "metadata": {},
   "outputs": [],
   "source": []
  }
 ],
 "metadata": {
  "kernelspec": {
   "display_name": "syn-smb-6FsZMwI3-py3.12",
   "language": "python",
   "name": "python3"
  },
  "language_info": {
   "codemirror_mode": {
    "name": "ipython",
    "version": 3
   },
   "file_extension": ".py",
   "mimetype": "text/x-python",
   "name": "python",
   "nbconvert_exporter": "python",
   "pygments_lexer": "ipython3",
   "version": "3.12.8"
  }
 },
 "nbformat": 4,
 "nbformat_minor": 5
}
